{
 "cells": [
  {
   "cell_type": "code",
   "execution_count": null,
   "id": "20692bb8-890b-4b21-a73b-5d9587129cde",
   "metadata": {
    "tags": []
   },
   "outputs": [],
   "source": [
    "import pandas as pd\n",
    "import numpy as np\n",
    "import matplotlib.pyplot as plt\n",
    "from IPython.display import YouTubeVideo\n",
    "%matplotlib inline\n",
    "#load the statistical libraries\n",
    "from statsmodels.stats import diagnostic\n",
    "from scipy import stats\n",
    "import seaborn as sns"
   ]
  },
  {
   "cell_type": "markdown",
   "id": "daa9a3d0",
   "metadata": {},
   "source": [
    "# Task 0 (Ungraded): Baseball 101\n",
    "\n",
    "**0.1 —** Familiarize yourself with the data; we won't explain the data in-depth in this notebook. Instead, you should take your time to read the readme.txt file inside the data folder. Note that this data is available on [GitHub](https://github.com/chadwickbureau/baseballdatabank).\n",
    "\n",
    "**0.2 —** Familiarize yourself with basic baseball rules. We will explain everything you need to know, but it will be helpful to get a basic understanding of it. Watching the video below should be enough! (Also available [here](https://www.youtube.com/watch?v=WMA8L5OpuDY).)\n",
    "\n",
    "A couple of useful things to remember:\n",
    "- **Pitchers** (try to) throw the ball\n",
    "- **Batters** (try to) hit the ball with the bat\n",
    "- **Catchers** (try to) catch the ball.\n"
   ]
  },
  {
   "cell_type": "markdown",
   "id": "a945475b",
   "metadata": {},
   "source": [
    "---\n",
    "\n",
    "# Task 1 (16 pts): Get to Know Your Data\n",
    "\n",
    "As a good data scientist, you first load the data and perform some small sanity checks on it.\n",
    "\n",
    "1. You are expected to continuously alter your dataframe as you complete the tasks. E.g., if you are asked to filter the data in a specific task, continue using the filtered dataset in the subsequent tasks.\n",
    "2. When we tell you to \"print the dataframe,\" make sure you print it in a way that shows the total number of rows and columns in it (`display(df)` should suffice).\n",
    "\n",
    "---"
   ]
  },
  {
   "cell_type": "markdown",
   "id": "d7c6482a",
   "metadata": {},
   "source": [
    "**1.1 —** Load the `People`, `Salaries`, and `Pitching` dataframes. Then:\n",
    "- Filter the `Salaries`, and `Pitching` dataframes to remove all data after the year 2010.\n",
    "- For the `Salaries` dataframe drop all duplicate salaries for players in a given year. In other words, if a player (uniquely identified by `PlayerID`) has multiple salaries in a year (`yearID`), keep the first occurence in the dataframe and drop the remaining.\n",
    "- Calculate the size of each dataframe. \n",
    "\n",
    "Make [deep copies](https://pandas.pydata.org/docs/reference/api/pandas.DataFrame.copy.html) of all dataframes as you filter them.\n",
    "\n",
    "Hints:\n",
    "- 2007 should be included in the data.\n",
    "- 2010 should be included in the data.\n",
    "- 2011 should not be included in the data."
   ]
  },
  {
   "cell_type": "code",
   "execution_count": null,
   "id": "b36dfe06-62f7-4cc0-9d45-04998d44aa7a",
   "metadata": {},
   "outputs": [],
   "source": [
    "data_folder = './data/baseballdatabank-2023/core/'\n",
    "df_People = pd.read_csv(data_folder + 'People.csv')\n",
    "df_Salaries = pd.read_csv('./data/baseballdatabank-2023/contrib/Salaries.csv')\n",
    "df_Pitching = pd.read_csv(data_folder + 'Pitching.csv')\n",
    "df_People_copy = df_People.copy()"
   ]
  },
  {
   "cell_type": "code",
   "execution_count": null,
   "id": "9a4df182-ccca-48f4-8411-fada4c9be2d6",
   "metadata": {
    "tags": []
   },
   "outputs": [],
   "source": [
    "# making deep copy of the dataframes\n",
    "df_Salaries_copy = df_Salaries.copy()\n",
    "df_Pitching_copy = df_Pitching.copy()"
   ]
  },
  {
   "cell_type": "code",
   "execution_count": null,
   "id": "0ea1fbe5-5814-447f-89e6-1da296d0954b",
   "metadata": {
    "tags": []
   },
   "outputs": [],
   "source": [
    "# extracting all data before 2011 year\n",
    "df_Salaries = df_Salaries.query('yearID <= 2010')\n",
    "df_Pitching = df_Pitching.query('yearID <= 2010')"
   ]
  },
  {
   "cell_type": "code",
   "execution_count": null,
   "id": "96e3e6d2-a274-4b91-9236-32db99922c83",
   "metadata": {
    "tags": []
   },
   "outputs": [],
   "source": [
    "df_Salaries['playerID'].duplicated() # checking if there are duplicated values\n",
    "df_Salaries.drop_duplicates(subset = 'playerID') # droping duplicates"
   ]
  },
  {
   "cell_type": "code",
   "execution_count": null,
   "id": "ffbfb8aa-c52a-4952-92ae-1324b582c624",
   "metadata": {
    "tags": []
   },
   "outputs": [],
   "source": [
    "print(df_Salaries.size)\n",
    "print(df_Pitching.size)"
   ]
  },
  {
   "cell_type": "markdown",
   "id": "52aadc50",
   "metadata": {},
   "source": [
    "**1.2 —** The `throws` column in the `People` dataframe indicates, for each player, whether they throw with the left (\"L\") or right hand (\"R\"). Check what values are in the column and drop rows containing any value that is not \"L\" or \"R,\" again, make a deep copy when you filter the dataframe.\n",
    "\n",
    "Hint: Remember NaNs!"
   ]
  },
  {
   "cell_type": "code",
   "execution_count": null,
   "id": "3e26366e-855c-44ad-a44e-c33b21f67dcf",
   "metadata": {
    "tags": []
   },
   "outputs": [],
   "source": [
    "df_People = df_People.dropna(axis = 'rows', subset = ['throws'])\n",
    "\n",
    "# df_People_copy[df_People_copy['throws'].isnull()]"
   ]
  },
  {
   "cell_type": "markdown",
   "id": "c0b13ccc",
   "metadata": {},
   "source": [
    "**1.3 —** Merge the `People` dataframe with the `Pitching` dataframe. Your merge should populate the pitching data with statistics about the players. Print the resulting dataframe."
   ]
  },
  {
   "cell_type": "code",
   "execution_count": null,
   "id": "eacbed6e-e3a8-419e-b7d9-8851f2203dd3",
   "metadata": {
    "tags": []
   },
   "outputs": [],
   "source": [
    "merged_pitching_people  = df_Pitching.merge(df_People, how = 'left',on = 'playerID')\n",
    "print(merged_pitching_people)"
   ]
  },
  {
   "cell_type": "markdown",
   "id": "cf6b613a",
   "metadata": {},
   "source": [
    "**1.4 —** You realize some of the data for the `throws` column is missing! Estimate the percentage of missing data points per year in that column, and show your estimates in a line plot. Additionally, print what percentage of the data was missing in 1892."
   ]
  },
  {
   "cell_type": "code",
   "execution_count": null,
   "id": "2d9f4f24-0c3d-4d0e-a49d-234bad744990",
   "metadata": {
    "tags": []
   },
   "outputs": [],
   "source": [
    "with_nan = merged_pitching_people['yearID'].value_counts().sort_index().values\n",
    "years =merged_pitching_people['yearID'].drop_duplicates().values\n",
    "without_nan = merged_pitching_people.dropna(subset = 'throws')['yearID'].value_counts().sort_index().values\n",
    "df_by_year = pd.DataFrame({'yearID': years, 'throws_with_nan': with_nan, 'throws_without_nan': without_nan })\n",
    "df_by_year[['throws_with_nan','throws_with_nan']].astype(int)\n",
    "df_by_year['NaNs'] = df_by_year['throws_with_nan'] - df_by_year['throws_without_nan']\n",
    "df_by_year['persentage of missing'] = df_by_year['NaNs']/df_by_year['throws_with_nan']*100"
   ]
  },
  {
   "cell_type": "code",
   "execution_count": null,
   "id": "1230dc70-96d0-4cc6-ad21-df8d14a56501",
   "metadata": {},
   "outputs": [],
   "source": [
    "df_by_year[['yearID', 'persentage of missing']].plot(x = 'yearID', y = 'persentage of missing')\n",
    "plt.ylabel('persentage of missing')"
   ]
  },
  {
   "cell_type": "code",
   "execution_count": null,
   "id": "98407660-ebc2-418a-ad5f-17bb5bed62d9",
   "metadata": {
    "tags": []
   },
   "outputs": [],
   "source": [
    "df_by_year[df_by_year['yearID'] == 1892][['yearID', 'persentage of missing']]"
   ]
  },
  {
   "cell_type": "markdown",
   "id": "96ede93d",
   "metadata": {},
   "source": [
    "**1.5 —** Filter the dataset you just merged (hereinafter `Pitching-People`) to just contain data from after 1920 (with 1920 included). Do the same with the `Salaries` dataset. Make deep copies of both dataframes as you filter them.\n",
    "\n"
   ]
  },
  {
   "cell_type": "code",
   "execution_count": null,
   "id": "6bb2f609-9f85-44c6-a1b5-63e5c0ca9fbd",
   "metadata": {
    "tags": []
   },
   "outputs": [],
   "source": [
    "merged_pitching_people_filtered = merged_pitching_people.copy()\n",
    "merged_pitching_people_filtered =merged_pitching_people_filtered.query('yearID >= 1920')\n",
    "df_Salaries_filtered = df_Salaries.copy()\n",
    "df_Salaries_filtered = df_Salaries_filtered.query('yearID >= 1920')\n",
    "df_Salaries_filtered"
   ]
  },
  {
   "cell_type": "markdown",
   "id": "27131c8e",
   "metadata": {},
   "source": [
    "**1.6 —**  Merge the `Pitching-People` dataframe with the `Salaries` dataframe. Your merge should populate the `Pitching-People` dataframe with statistics about the pitchers'salaries across the years. Note that the `Salaries` dataframe contains the salary **per year.** Print the resulting dataframe."
   ]
  },
  {
   "cell_type": "code",
   "execution_count": null,
   "id": "2690c8a1-3fcb-41d5-b68a-3c7c5fc60a32",
   "metadata": {
    "tags": []
   },
   "outputs": [],
   "source": [
    "pitching_people_salary = merged_pitching_people_filtered.merge(df_Salaries_filtered, how = 'left', on = ['playerID', 'yearID', 'teamID', 'lgID'])\n",
    "print(pitching_people_salary)"
   ]
  },
  {
   "cell_type": "markdown",
   "id": "0555fd31",
   "metadata": {},
   "source": [
    "**1.7 —** You realize some of the data for the `salary` column is missing! Estimate the percentage of missing data points per year, and show your estimates in a line plot. Additionally, print what percentage of the data was missing in 2002.\n"
   ]
  },
  {
   "cell_type": "code",
   "execution_count": null,
   "id": "8c685690-329d-4f82-8116-e17b3671e40f",
   "metadata": {
    "tags": []
   },
   "outputs": [],
   "source": [
    "salary = pitching_people_salary['yearID'].value_counts().sort_index().values\n",
    "years =pitching_people_salary['yearID'].drop_duplicates().values\n",
    "year_salary = pitching_people_salary.loc[:, 'yearID': 'salary']\n",
    "year_salary['nans'] = year_salary['salary'].isnull()\n",
    "groupby_year = year_salary.groupby('yearID')['nans'].sum().reset_index(name = 'number of nans')\n",
    "df_year = pd.DataFrame({'yearID': years, 'salary': salary, 'nan_salary': groupby_year['number of nans'] })\n",
    "df_year[['salary','nan_salary']].astype(int)\n",
    "df_year['persentage of missing'] = df_year['nan_salary']/df_year['salary']*100"
   ]
  },
  {
   "cell_type": "code",
   "execution_count": null,
   "id": "394ab466-6882-4ad8-87ed-01aefc74e950",
   "metadata": {
    "tags": []
   },
   "outputs": [],
   "source": [
    "df_year.plot(x = 'yearID', y = 'persentage of missing')"
   ]
  },
  {
   "cell_type": "code",
   "execution_count": null,
   "id": "8974f366-310e-4605-853f-2de80b5f2cce",
   "metadata": {
    "tags": []
   },
   "outputs": [],
   "source": [
    "df_year[df_year['yearID'] == 2002][['yearID', 'persentage of missing']]"
   ]
  },
  {
   "cell_type": "markdown",
   "id": "eca3d2cc",
   "metadata": {},
   "source": [
    "**1.8 —** Find and print the first and last year for which there exists any salary data. Filter the resulting, merged dataframe to include only data between these two dates. Again make sure you make a deep copy of the dataframe, and print the resulting dataframe."
   ]
  },
  {
   "cell_type": "code",
   "execution_count": null,
   "id": "6bad671f-407c-4b1d-acb7-6f492b5706bd",
   "metadata": {
    "tags": []
   },
   "outputs": [],
   "source": [
    "print(pitching_people_salary.dropna(subset = 'salary'))\n",
    "\n",
    "print('first year for which there is some salary data: 1985')\n",
    "print('last year for which there is some salary data: 2011')"
   ]
  },
  {
   "cell_type": "code",
   "execution_count": null,
   "id": "172261d8-d7a0-46d7-9125-986894b3d72d",
   "metadata": {
    "tags": []
   },
   "outputs": [],
   "source": [
    "pitching_people_salary_filtered = pitching_people_salary.copy()\n",
    "pitching_people_salary_filtered = pitching_people_salary_filtered[pitching_people_salary_filtered['yearID'].between(1985, 2011)]\n",
    "print(pitching_people_salary_filtered)"
   ]
  },
  {
   "cell_type": "markdown",
   "id": "b2352cb9",
   "metadata": {},
   "source": [
    "---\n",
    "\n",
    "# Task 2 (16 pts)\n",
    "\n",
    "Task 1, was a softball? Huh? For Task 2, you will use a dataset similar to what you obtained at the end of Task 1. This code loads it.\n"
   ]
  },
  {
   "cell_type": "code",
   "execution_count": null,
   "id": "11463fe3",
   "metadata": {},
   "outputs": [],
   "source": [
    "# PROVIDED CODE\n",
    "\n",
    "df = pd.read_csv(\"./data/dataset-task-2.csv\")\n",
    "df.head()"
   ]
  },
  {
   "cell_type": "markdown",
   "id": "25ff6e64",
   "metadata": {},
   "source": [
    "Some comments about this dataset:\n",
    "- This is a sample of the dataset obtained in Task 1. \n",
    "- Even if you  did everything correctly for Task 1, this dataframe would contain a different number of rows --- as it is a sample.\n",
    "- This prevent that mistakes made in Task 1 cascade into Tasks 2 and 3.\n",
    "\n",
    "\n",
    "With this data, you will proceed to investigate differences in the salaries and performance of left-handed and right-handed pitchers.\n",
    "\n",
    "---"
   ]
  },
  {
   "cell_type": "markdown",
   "id": "b8ecac1d",
   "metadata": {},
   "source": [
    "**2.1 —** Plot the Complementary cumulative distribution function (CCDF) of salary for left-handed and right-handed athletes. Consider data from all years."
   ]
  },
  {
   "cell_type": "code",
   "execution_count": null,
   "id": "f460dcf3-c631-405a-897b-d2ff8a8f74ef",
   "metadata": {
    "tags": []
   },
   "outputs": [],
   "source": [
    "df_copy = df.copy()\n",
    "# lets get left-handed and right_handed atheletes dataframe seperately\n",
    "l_df = df[df.throws == 'L'].dropna(subset = ['throws','salary'])\n",
    "r_df = df[df.throws == 'R'].dropna(subset = ['throws','salary'])\n",
    "l_salary_arrow = l_df['salary'].values\n",
    "r_salary_arrow = r_df['salary'].values\n",
    "l_salary_arrow = np.sort(l_salary_arrow)\n",
    "r_salary_arrow = np.sort(r_salary_arrow)"
   ]
  },
  {
   "cell_type": "code",
   "execution_count": null,
   "id": "f3a68d66-e097-4af9-a91a-88509ef4db8b",
   "metadata": {},
   "outputs": [],
   "source": [
    "fig, ax = plt.subplots(nrows = 1, ncols = 2, sharex = True, sharey = True, figsize = (10,8))\n",
    "ax[0].hist(r_salary_arrow, bins = 50, cumulative = -1)\n",
    "ax[1].hist(l_salary_arrow, bins = 50, cumulative = -1)\n",
    "ax[0].set_title('right-handed salary distribution')\n",
    "ax[1].set_title('left-handed salary distribution')\n",
    "fig.text(0.5,0, \"amount of salary\")\n",
    "fig.text(0,0.5, \"number of pitchers\", rotation = 90)\n",
    "plt.show()"
   ]
  },
  {
   "cell_type": "markdown",
   "id": "d41cf3e9",
   "metadata": {},
   "source": [
    "**2.2 —** /Discuss:/ This plot has an issue which severely limits the amount of information one can draw from it. Describe the issue and propose a solution to address it."
   ]
  },
  {
   "cell_type": "markdown",
   "id": "318c8a0f-5340-4aae-861f-e72beb9fca7b",
   "metadata": {},
   "source": [
    "both plots are right-skewed that they have long tails. From these plots we can lose useful information about tails(heavy tails might have more useful information about the data). As always log is our friends. In this case we have two options:\n",
    "1)we should use Power Law which can tell more information about long haevy tail. we use log-log scale for axes. \n",
    "2)if it is exponential we use log scale only for y axis. "
   ]
  },
  {
   "cell_type": "markdown",
   "id": "c6cf047a",
   "metadata": {},
   "source": [
    "**2.3 —** Implement the solution proposed by yourself in the previous question."
   ]
  },
  {
   "cell_type": "code",
   "execution_count": null,
   "id": "288654bb-6129-4d3c-b171-2ef89fa62ca0",
   "metadata": {
    "tags": []
   },
   "outputs": [],
   "source": [
    "# let try the case that ccdf is power of x. we use log scale for both axes(x, y ) \n",
    "right_handed_array_50 = plt.hist(r_salary_arrow, bins = 100, cumulative = -1)\n",
    "left_handed_array_50 = plt.hist(l_salary_arrow, bins = 100, cumulative = -1)"
   ]
  },
  {
   "cell_type": "code",
   "execution_count": null,
   "id": "925a6904-a88c-4694-8179-22d88654a383",
   "metadata": {
    "tags": []
   },
   "outputs": [],
   "source": [
    "# loglog scale in both axes. \n",
    "fig, ax = plt.subplots(nrows = 1, ncols = 2, sharex = True, sharey = True, figsize = (10,8))\n",
    "ax[0].loglog(right_handed_array_50[1][1:], right_handed_array_50[0])\n",
    "ax[1].loglog(left_handed_array_50[1][1:],right_handed_array_50[0])\n",
    "ax[0].set_title('right-handed salary distribution')\n",
    "ax[1].set_title('left-handed salary distribution')\n",
    "fig.text(0.5,0, \"amount of salary in log scale\")\n",
    "fig.text(0,0.5, \"number of pitchers in log scale\", rotation = 90)\n",
    "plt.show()\n",
    "\n",
    "# we see that figures are not straight line. So ccdf is not power of x "
   ]
  },
  {
   "cell_type": "code",
   "execution_count": null,
   "id": "60053df0-195a-4f92-ac33-bde747bae718",
   "metadata": {
    "tags": []
   },
   "outputs": [],
   "source": [
    "# lets try if ccdf is exp(x). \n",
    "fig, ax = plt.subplots(nrows = 1, ncols = 2, sharex = True, sharey = True, figsize = (10,8))\n",
    "ax[0].hist(r_salary_arrow, bins = 50, cumulative = -1, log = True, histtype = 'step')\n",
    "ax[1].hist(l_salary_arrow, bins = 50, cumulative = -1, log = True, histtype = 'step')\n",
    "ax[0].set_title('right-handed salary distribution')\n",
    "ax[1].set_title('left-handed salary distribution')\n",
    "fig.text(0.5,0, \"amount of salary\")\n",
    "fig.text(0,0.5, \"number of pitchers\", rotation = 90)\n",
    "plt.show()\n",
    "\n",
    "# we see that it is similar to straight line. y = C*exp(x) -> log(y) = c + x"
   ]
  },
  {
   "cell_type": "code",
   "execution_count": null,
   "id": "e5bf630a-9a30-484e-82a7-45ba276f1d2c",
   "metadata": {
    "tags": []
   },
   "outputs": [],
   "source": [
    "# check if it is exponential distribution\n",
    "print(diagnostic.kstest_normal(r_salary_arrow, dist = 'exp'))\n",
    "print(diagnostic.kstest_normal(l_salary_arrow, dist = 'exp'))\n",
    "\n",
    "#  since both p-values < 0.05 they are not exponential distribution"
   ]
  },
  {
   "cell_type": "markdown",
   "id": "42f76aee-f73f-498b-842b-14120bebb9f6",
   "metadata": {},
   "source": [
    "both p < 0.05 so they are  not exponential distribution. "
   ]
  },
  {
   "cell_type": "code",
   "execution_count": null,
   "id": "653798d0-93c4-47d2-9841-a1ae8bb1b4b7",
   "metadata": {},
   "outputs": [],
   "source": [
    "# let's plot in log-x scale\n",
    "right_handed_array_50 = plt.hist(r_salary_arrow, bins = 1000, cumulative = -1, label = 'r-handed pitchers')\n",
    "left_handed_array_50 = plt.hist(l_salary_arrow, bins = 1000, cumulative = -1, label = 'l-handed pitchers')\n",
    "plt.xscale('log')\n",
    "\n",
    "# in this plot we can see tails clearly"
   ]
  },
  {
   "cell_type": "markdown",
   "id": "9a6f5768",
   "metadata": {},
   "source": [
    "**2.4 —** /Discuss:/ Considering this second version of the plot, describe what the plot shows with regard to the distribution of salaries from left- and right-handed pitchers."
   ]
  },
  {
   "cell_type": "markdown",
   "id": "7394654f-542f-4148-9160-5dfe60595cca",
   "metadata": {},
   "source": [
    "* this plot shows ccdf of left- and right-handed pitchers' salary in logarithmic x-axis. since we can see tails clearly, we can compare them. This plot shows that number of right-handed pitchers is twice as many left-handed pichers."
   ]
  },
  {
   "cell_type": "markdown",
   "id": "6042ffd7",
   "metadata": {},
   "source": [
    "**2.5—** Calculate the mean and the 95% confidence interval for the salary of left-handed and right-handed pitchers aggregating data across all years. Print the estimates. Additionally, present the estimates and the confidence intervals in a [point plot](https://seaborn.pydata.org/_images/pointplot_7_0.png). Calculate your confidence intervals using the standard error of the mean and ignoring missing values."
   ]
  },
  {
   "cell_type": "code",
   "execution_count": null,
   "id": "1a6b58fc-1849-43b6-a26c-153b27be6d49",
   "metadata": {},
   "outputs": [],
   "source": [
    "l_m = l_df.salary.mean()\n",
    "r_m = r_df.salary.mean()\n",
    "print(f' mean for left-handed pitchers: {l_df.salary.mean()}')\n",
    "print(f' mean for right-handed pitchers: {r_df.salary.mean()}')\n",
    "r_std = np.std(r_df['salary'])/np.sqrt(len(r_df))\n",
    "l_std = np.std(l_df['salary'])/np.sqrt(len(l_df))\n",
    "print(f'95% confidence interval for the salary of light-handed pitchers: {(l_m - 2*l_std, l_m + 2*l_std)}')\n",
    "print(f'95% confidence interval for the salary of right-handed pitchers: {(r_m - 2*r_std, r_m + 2*r_std)}')"
   ]
  },
  {
   "cell_type": "code",
   "execution_count": null,
   "id": "1a058238-3462-410a-8a8b-45fa30b1a312",
   "metadata": {
    "tags": []
   },
   "outputs": [],
   "source": [
    "sns.pointplot(x = df['throws'], y = df['salary'])"
   ]
  },
  {
   "cell_type": "markdown",
   "id": "fb8e91fb",
   "metadata": {},
   "source": [
    "**2.6 —** /Discuss:/ Can you tell whether the difference between the two distributions is statistically significant (at the .05 level of significance) from the image? Why?"
   ]
  },
  {
   "cell_type": "markdown",
   "id": "f3a21cd6-32d5-48ef-8390-aebe08f88a5f",
   "metadata": {},
   "source": [
    "* from the last plot we can say that there is statistically significant difference between two distributions. As you see confedencd intervals(CI = 0.95) are shown and there is no interception between CIs. "
   ]
  },
  {
   "cell_type": "markdown",
   "id": "3e317d60",
   "metadata": {},
   "source": [
    "**2.7 —** Perform a t-test test comparing the salaries of left-handed and right-handed pitchers at the .05 level of significance. Consider data from all years. /Discuss:/ Who earns more?"
   ]
  },
  {
   "cell_type": "code",
   "execution_count": null,
   "id": "4385f51c-fb94-4a87-80fa-b4732ada5314",
   "metadata": {},
   "outputs": [],
   "source": [
    "print(stats.ttest_ind(l_df['salary'], r_df['salary']))"
   ]
  },
  {
   "cell_type": "markdown",
   "id": "57519fc2-b10f-4574-86f6-38e0bad8226d",
   "metadata": {},
   "source": [
    "since p-value < 0.05, we can reject the null hypothesis that salaries are same. So there is statistically significant difference. since the mean of right-handed salary is more than that of left-handed, right-handed pitchers earn more"
   ]
  },
  {
   "cell_type": "markdown",
   "id": "a8bad3cf",
   "metadata": {},
   "source": [
    "---\n",
    "\n",
    "Now, let's turn to analyzing performance. A commonly used metric to evaluate the skill of a pitcher is to look at the batting average of the pitcher’s opponents. According to [Wikipedia](https://en.wikipedia.org/wiki/Batting_average_against),\n",
    "\n",
    "> In baseball statistics, batting average against (denoted by BAA or AVG), also known as opponents' batting average (denoted by OBA), is a statistic that measures a pitcher's ability to prevent hits during official at bats. It can alternatively be described as the league's hitters' combined batting average against the pitcher.\n",
    "\n",
    "The intuition is clear: if you are a pitcher, you do not want the batter actually to hit the ball. Thus, if you are a good pitcher, the opponent batter should miss a lot against you! Conveniently, this is already calculated on a yearly basis in our data.\n",
    "\n",
    "---"
   ]
  },
  {
   "cell_type": "markdown",
   "id": "e89c2cf1",
   "metadata": {},
   "source": [
    "**2.8 —** Considering data from all years, calculate the mean opponents' batting average for left- and right-handed pitchers. Run a t-test test to determine if this difference is statistically significant at the .05 level of significance. **Consider only pitchers in the years during which they have played atleast 5 games.** /Discuss:/ According to this approach, who are the better pitchers? Left-handed or right-handed pitchers?"
   ]
  },
  {
   "cell_type": "code",
   "execution_count": null,
   "id": "42f8d9fd-d2a6-4386-afa2-ae26985a9fe4",
   "metadata": {},
   "outputs": [],
   "source": [
    "r_df_copy = r_df.copy()\n",
    "l_df_copy = l_df.copy()\n",
    "\n",
    "r_df = r_df.dropna(subset = ['BAOpp', 'G'])\n",
    "l_df = l_df.dropna(subset = ['BAOpp','G'])\n",
    "r_df = r_df.query('G >= 5')\n",
    "l_df = l_df.query('G >= 5')\n",
    "\n",
    "print(f'mean opponents batting average for left-handed pitchers: {l_df.BAOpp.mean()}')\n",
    "print(f'mean opponents batting average for right-handed pitchers: {r_df.BAOpp.mean()}')\n",
    "print(stats.ttest_ind(l_df['BAOpp'], r_df['BAOpp']))"
   ]
  },
  {
   "cell_type": "markdown",
   "id": "8385ccd0-6c8f-4f0e-b13a-00e6a6802de3",
   "metadata": {},
   "source": [
    "\n",
    "\n",
    "p-value = 0.002 < 0.05 -> we reject null hypothisis that BAOpps are same.So there is statistically significant difference between BAOpps. Comparing mean values of BAOpps we can say that left-handed pitcher better!\n",
    "\n"
   ]
  },
  {
   "cell_type": "markdown",
   "id": "d4af00e9",
   "metadata": {},
   "source": [
    "# Task 3 (18 pts)\n",
    "\n",
    "Before you report your results to Mr. Russo, you decide to run them by your favorite Applied Data Analysis' TA, Ms. Sakota. She seems skeptical! According to her, you should take into account the time variable!"
   ]
  },
  {
   "cell_type": "markdown",
   "id": "8f845533",
   "metadata": {},
   "source": [
    "**3.1 —** Repeat the analysis from tasks 2.7 and 2.8 considering only data from the year 2000. That is, use a t-test to determine the distribution of salaries (2.7) and opponents' batting average (2.8) for all data of the year 2000 only. "
   ]
  },
  {
   "cell_type": "code",
   "execution_count": null,
   "id": "3389b123-a7cb-4732-818d-13b803aad55b",
   "metadata": {
    "tags": []
   },
   "outputs": [],
   "source": [
    "# 2.7 tasks for 2000 year\n",
    "l_df_2000 = l_df_copy[l_df_copy['yearID'] == 2000]\n",
    "r_df_2000 = r_df_copy[r_df_copy['yearID'] == 2000]\n",
    "print(stats.ttest_ind(l_df_2000['salary'], r_df_2000['salary']))"
   ]
  },
  {
   "cell_type": "markdown",
   "id": "51970c05-fb71-400a-bf16-b5c59241b11d",
   "metadata": {},
   "source": [
    "-- pvalue > 0.05 -> we failed reject null hypothesis that salaries are same. So there is no statistically significant difference between salaries. "
   ]
  },
  {
   "cell_type": "code",
   "execution_count": null,
   "id": "cac47b44-20d8-4d5a-a573-b950350e96ad",
   "metadata": {
    "tags": []
   },
   "outputs": [],
   "source": [
    "# 2.8 tasks for 2000 year\n",
    "r_df_2000 = r_df_2000.dropna(subset = ['BAOpp', 'G'])\n",
    "l_df_2000 = l_df_2000.dropna(subset = ['BAOpp','G'])\n",
    "r_df_2000 = r_df_2000.query('G >= 5')\n",
    "l_df_2000 = l_df_2000.query('G >= 5')\n",
    "\n",
    "print(f'mean opponents batting average for left-handed pitchers: {l_df_2000.BAOpp.mean()}')\n",
    "print(f'mean opponents batting average for right-handed pitchers: {r_df_2000.BAOpp.mean()}')\n",
    "print(stats.ttest_ind(l_df_2000['BAOpp'], r_df_2000['BAOpp']))"
   ]
  },
  {
   "cell_type": "markdown",
   "id": "d6763ab0-472a-4438-8633-8bf703332cba",
   "metadata": {},
   "source": [
    "p-value > 0.05 --> we failed to reject null hypothesis that BAOpps are same.So there is no statistically significant difference between BAOpps."
   ]
  },
  {
   "cell_type": "markdown",
   "id": "f31ef97f",
   "metadata": {},
   "source": [
    "**3.2 —** Create a single plot with 14 inches of width and 4 inches of height. The plot should contain three panels:\n",
    "- Panel A: The percentage of left-handed pitchers per year;\n",
    "- Panel B: The average salary of all pitchers per year\n",
    "- Panel C: The average opponents' batting average of all pitchers per year.\n",
    "\n",
    "Additionally, print, for the year 2007:\n",
    "- the percentage of left-handed pitchers.\n",
    "- the average salary.\n",
    "- the average  opponents' batting average."
   ]
  },
  {
   "cell_type": "code",
   "execution_count": null,
   "id": "21d37bbc-dcf7-48ed-864b-91022ec28dcf",
   "metadata": {
    "tags": []
   },
   "outputs": [],
   "source": [
    "# the percentage of left-handed pitchers.\n",
    "gr_year = df['yearID'].value_counts(ascending = True)\n",
    "gr_year = gr_year.reset_index(name = 'number of pitchers')\n",
    "year_left = df[df['throws'] == \"L\"]['yearID'].value_counts(ascending = True)\n",
    "year_left = year_left.reset_index(name = 'number of left-handed')\n",
    "year_left = year_left.merge(gr_year, how = 'left', on = 'yearID')\n",
    "year_left['the percentage of left-handed pitchers'] = year_left['number of left-handed']/year_left['number of pitchers']*100\n",
    "year_left = year_left.sort_values('yearID', ignore_index = True)"
   ]
  },
  {
   "cell_type": "code",
   "execution_count": null,
   "id": "988254df-aa2a-4909-af3c-5f6208e36d1c",
   "metadata": {
    "tags": []
   },
   "outputs": [],
   "source": [
    "# The average salary of all pitchers per year\n",
    "average_salary_per_year = df[['yearID', 'salary']].groupby('yearID').mean().reset_index()"
   ]
  },
  {
   "cell_type": "code",
   "execution_count": null,
   "id": "a1b34ba9-8054-4bc3-8e12-6809d8094220",
   "metadata": {
    "tags": []
   },
   "outputs": [],
   "source": [
    "# The average opponents' batting average of all pitchers per year.\n",
    "average_BAOpp_per_year = df[['yearID', 'BAOpp']].groupby('yearID').mean().reset_index()\n"
   ]
  },
  {
   "cell_type": "code",
   "execution_count": null,
   "id": "3bb04f3e-a599-41a9-aea4-a789c7eb7bb9",
   "metadata": {
    "tags": []
   },
   "outputs": [],
   "source": [
    "fig, ax = plt.subplots(1,3, figsize = (14,4))\n",
    "year_left.plot(kind = 'line', x = 'yearID', y = 'the percentage of left-handed pitchers', ax = ax[0])\n",
    "average_BAOpp_per_year.plot(x = 'yearID', y = 'BAOpp', ax = ax[2])\n",
    "average_salary_per_year.plot(x = 'yearID', y = 'salary', ax = ax[1])"
   ]
  },
  {
   "cell_type": "code",
   "execution_count": null,
   "id": "3f0068c4-53df-41c2-8f02-6d1ce8c5d23f",
   "metadata": {
    "tags": []
   },
   "outputs": [],
   "source": [
    "lf_per_2007 = year_left[year_left['yearID'] == 2007].loc[(22, 'the percentage of left-handed pitchers')]\n",
    "print(f'the percentage of left-handed pitchers for 2007: {lf_per_2007}')\n",
    "print(average_salary_per_year[average_salary_per_year['yearID'] == 2007])\n",
    "print(average_BAOpp_per_year[average_BAOpp_per_year['yearID'] == 2007])"
   ]
  },
  {
   "cell_type": "markdown",
   "id": "388cc0f1",
   "metadata": {},
   "source": [
    "**3.3 —** Create a single plot with 10 inches of width and 4 inches of height. The plot should contain two panels: \n",
    "- Panel A: The average salary for left and right-handed pitchers per year, show 95% confidence intervals in your plot.\n",
    "- Panel B: The average opponents' batting average for left and right-handed pitchers across the years, show 95% confidence intervals in your plot.\n",
    "\n",
    "\n",
    "Additionally, print, for the year 1999:\n",
    "- the average salary of left-handed pitchers.\n",
    "- the average opponents' batting average of right-handed pitchers."
   ]
  },
  {
   "cell_type": "code",
   "execution_count": null,
   "id": "4fa84e52-84d8-4ac3-b972-feb24a5da3a9",
   "metadata": {},
   "outputs": [],
   "source": [
    "fig, ax = plt.subplots(1,2, figsize = (10,4))\n",
    "sns.barplot(x = df['throws'], y = df['salary'], ax = ax[0])\n",
    "sns.barplot(x =df['throws'], y= df['BAOpp'], ax = ax[1] , width = 0.4)\n",
    "ax[0].set_title('the average salary of pitchers')\n",
    "ax[1].set_title('the average BAOpp of pitchers')"
   ]
  },
  {
   "cell_type": "code",
   "execution_count": null,
   "id": "7d7c210c-f65e-485a-909f-7b643a56f8e2",
   "metadata": {
    "tags": []
   },
   "outputs": [],
   "source": [
    "mask1 = df['yearID'] == 1999\n",
    "mask2 = df['throws'] == 'L'\n",
    "average_sal_left = df[mask1 & mask2]['salary'].mean()\n",
    "print(f'the average salary of left-handed pitchers for 1999: {average_sal_left}')\n",
    "mask3 = df['throws'] == 'R'\n",
    "average_BAOpp = df[mask1 & mask3]['BAOpp'].mean()\n",
    "print(f'the average opponents batting average of right-handed pitchers for 1999:  {average_BAOpp}')\n"
   ]
  },
  {
   "cell_type": "markdown",
   "id": "2e1df840",
   "metadata": {},
   "source": [
    "**3.4 —** /Discuss:/ Contrast the results obtained in Tasks 3.1 / 3.3 / 3.3 with the results obtained in Tasks 2.7 and 2.8. Are left-handed better than right-handed pitchers? Do they earn better salaries? Explain why the analysis might have reached different results."
   ]
  },
  {
   "cell_type": "markdown",
   "id": "0de850b8-86c3-498a-99f3-504bcc7cb960",
   "metadata": {},
   "source": [
    "* It seems that left-handed pitchers are similar to right-handed ones and earn similar salaries. The number of left handed pitchers has drastically decreased in the league (from ~33% in 1985 to ~26% in 2010), while salary and opponent batting average increased. This creates a simpson paradox that lead to the results in the previous analysis"
   ]
  },
  {
   "cell_type": "markdown",
   "id": "8142c160",
   "metadata": {},
   "source": [
    "**3.5 —** Before showing the final results to Mr. Russo, you pass them by Ms. Sakota once more. She looks happier now, but still looks a bit concerned. She asks you to perform a sanity check on the missing data for the period you are considering. Specifically, she is worried that there are significantly more missing salaries for left-handed pitchers or for right-handed pitchers.\n",
    "\n",
    "- Create a plot with 10 inches of width and 4 inches of height. The plot should depict the fraction of missing salary  salary for left and right-handed pitchers per year, show 95% confidence intervals in your plot. \n",
    "- Print the fraction of left-handed pitchers with salary data missing for the year 2002. \n",
    "- /Discuss:/ According to the plot, are there significantly more missing salaries for left-handed pitchers?\n"
   ]
  },
  {
   "cell_type": "code",
   "execution_count": null,
   "id": "9994982e-65ac-4c85-8c76-b142b6c5802d",
   "metadata": {},
   "outputs": [],
   "source": [
    "df['nans of salary'] = df['salary'].isnull()\n",
    "fig, ax = plt.subplots(1,1, figsize = (10,4))\n",
    "sns.barplot(data = df, x = 'yearID', y= 'nans of salary', hue ='throws', width = 0.6, errwidth = 1)\n",
    "plt.xticks(rotation=90)  # Rotate the x-axis labels by 90 degrees\n",
    "ax.set_title('fraction of missing salary values')\n",
    "plt.show()"
   ]
  },
  {
   "cell_type": "code",
   "execution_count": null,
   "id": "f064d689-c087-40cf-8106-0448d468316a",
   "metadata": {
    "tags": []
   },
   "outputs": [],
   "source": [
    "fig, ax = plt.subplots(1,1, figsize = (10,4))\n",
    "sns.pointplot(data = df, x = 'yearID', y= 'nans of salary', hue ='throws')\n",
    "plt.xticks(rotation=90)  # Rotate the x-axis labels by 90 degrees\n",
    "ax.set_title('fraction of missing salary values')\n",
    "plt.show()"
   ]
  },
  {
   "cell_type": "code",
   "execution_count": null,
   "id": "1a7a7d86-c09c-44c0-b05a-cc5e1f799f7f",
   "metadata": {
    "tags": []
   },
   "outputs": [],
   "source": [
    "df_year_missing_salary = df[df['throws'] == 'L'].groupby('yearID')['nans of salary'].sum()\n",
    "df_year_missing_salary = df_year_missing_salary.reset_index(name = 'nans')\n",
    "n_of_allsalary = df[df['throws'] == 'L']['yearID'].value_counts().sort_index().reset_index(name = 'number of all salary values')\n",
    "df_missing = df_year_missing_salary.merge(n_of_allsalary, how = 'left', on = 'yearID')\n",
    "df_missing['fraction of missing'] = df_missing['nans']/df_missing['number of all salary values']\n",
    "missing_2002 = df_missing[df_missing['yearID'] == 2002].loc[17, 'fraction of missing']\n",
    "print(f'the fraction of left-handed pitchers with salary data missing for the year 2002: {missing_2002}')"
   ]
  },
  {
   "cell_type": "markdown",
   "id": "8c8369cd-a9fb-40b9-860b-408e0db54661",
   "metadata": {},
   "source": [
    "*** According to the plot, fraction of missing salaries is almost same for both type of pitchers."
   ]
  },
  {
   "cell_type": "markdown",
   "id": "259f7dca",
   "metadata": {},
   "source": [
    "**3.6 –**  /Discuss:/ If 95% of the salaries of right-handed pitchers were missing and none for the left-handed pitchers, what problem could you envision could happen downstream when you analyzed the data?"
   ]
  },
  {
   "cell_type": "markdown",
   "id": "dbe0e301-3851-418a-a198-2f1e539840b6",
   "metadata": {},
   "source": [
    "* bias could happen in this case. Because most part of data for right_handed pitchers, our analysis might be biased."
   ]
  }
 ],
 "metadata": {
  "kernelspec": {
   "display_name": "Python 3 (ipykernel)",
   "language": "python",
   "name": "python3"
  },
  "language_info": {
   "codemirror_mode": {
    "name": "ipython",
    "version": 3
   },
   "file_extension": ".py",
   "mimetype": "text/x-python",
   "name": "python",
   "nbconvert_exporter": "python",
   "pygments_lexer": "ipython3",
   "version": "3.9.18"
  }
 },
 "nbformat": 4,
 "nbformat_minor": 5
}
